{
 "cells": [
  {
   "cell_type": "code",
   "execution_count": 268,
   "metadata": {},
   "outputs": [],
   "source": [
    "from urllib.request import urlopen\n",
    "from bs4 import BeautifulSoup\n",
    "import numpy as np\n",
    "import pandas as pd\n",
    "import praw, requests\n",
    "import matplotlib.pyplot as plt\n",
    "import time\n",
    "import re\n",
    "%matplotlib inline"
   ]
  },
  {
   "cell_type": "code",
   "execution_count": 2,
   "metadata": {},
   "outputs": [],
   "source": [
    "reddit = praw.Reddit(client_id = 'QPLNKgwv94Zx2A',\n",
    "                     client_secret = 'aqwyGK3EAWC9-IeSN7tR6GhNZCc',\n",
    "                     password ='bulldogs11',\n",
    "                     user_agent = 'chromium:CommentPuller:v0.1 (by -jaylew-)',\n",
    "                     username ='-jaylew-',\n",
    "                     ) ##initialize a reddit instance, log in using my info"
   ]
  },
  {
   "cell_type": "code",
   "execution_count": 3,
   "metadata": {},
   "outputs": [
    {
     "name": "stdout",
     "output_type": "stream",
     "text": [
      "-jaylew-\n"
     ]
    }
   ],
   "source": [
    "print(reddit.user.me()) ##check that I logged in"
   ]
  },
  {
   "cell_type": "code",
   "execution_count": 32,
   "metadata": {},
   "outputs": [],
   "source": [
    "#Make the initial empty list of titles, define the subreddit to investigate\n",
    "titles = []\n",
    "scores = []\n",
    "subreddit = reddit.subreddit('natureisfuckinglit')\n",
    "\n",
    "#Go through all the top 'limit' submissions, filter out non-alphabetical characters, make them lowercase\n",
    "for submission in subreddit.top('all', limit=1000):\n",
    "    scores.append(submission.score)\n",
    "    title = submission.title.split()\n",
    "    title = ' '.join(filter(str.isalpha, title)).lower()\n",
    "    #Append the processed title to the list of titles\n",
    "    titles.append(title)"
   ]
  },
  {
   "cell_type": "code",
   "execution_count": 36,
   "metadata": {},
   "outputs": [],
   "source": [
    "#Create initial dataframe to be worked with\n",
    "natureLitDf = pd.DataFrame()\n",
    "natureLitDf['Title'] = titles\n",
    "natureLitDf['Score'] = scores"
   ]
  },
  {
   "cell_type": "code",
   "execution_count": 55,
   "metadata": {},
   "outputs": [],
   "source": [
    "#Create a lemmatized version of the titles\n",
    "import nltk\n",
    "nltk.download('wordnet')\n",
    "from nltk.stem import WordNetLemmatizer"
   ]
  },
  {
   "cell_type": "code",
   "execution_count": 56,
   "metadata": {},
   "outputs": [],
   "source": [
    "wnLem = WordNetLemmatizer()\n",
    "\n",
    "natureLitDf['Lemmatized Title'] = natureLitDf['Title'].apply(lambda txt: ' '.join([wnLem.lemmatize(x) for x in txt.split()])   ) "
   ]
  },
  {
   "cell_type": "code",
   "execution_count": 64,
   "metadata": {},
   "outputs": [],
   "source": [
    "#Get a list of animal names to be used as a basis for whether a title contains an animal name"
   ]
  },
  {
   "cell_type": "code",
   "execution_count": 66,
   "metadata": {},
   "outputs": [],
   "source": [
    "from wikitables import import_tables"
   ]
  },
  {
   "cell_type": "code",
   "execution_count": 67,
   "metadata": {},
   "outputs": [],
   "source": [
    "tables = import_tables('List of animal names')"
   ]
  },
  {
   "cell_type": "code",
   "execution_count": 183,
   "metadata": {},
   "outputs": [],
   "source": [
    "animals = []\n",
    "for row in tables[1].rows:\n",
    "    #Get the animal name from the row of the table\n",
    "    animal = ('{Animal}'.format(**row).split()[0].lower())\n",
    "    #Remove any punctuations from the row entry\n",
    "    animal = ''.join(filter(str.isalpha, animal))\n",
    "    animals.append(animal)\n",
    "\n",
    "#Do this to remove some odd 'animal' results\n",
    "problems = ['a', 'water', 'i', 'sea', 'giant', 'sand']\n",
    "animals = [x for x in animals if x not in problems]\n",
    "#Adding in new animals I saw were not included but were in titles\n",
    "extras = ['rhino', 'cuttlefish', 'moth', 'chameleon', 'woodpecker', 'peacock', 'osprey', 'urchin', 'pangolin', 'swordfish', 'tulip', 'bumblebee', 'clam', 'macaw', 'axolotl', 'starfish', 'fungus', 'puma', 'beetle', 'viper', 'dragon', 'sugar glider', 'scorpion', 'mantis', 'python', 'shrimp', 'coral', 'grizzly', 'stallion', 'iguana' ]\n",
    "animals = animals+extras"
   ]
  },
  {
   "cell_type": "code",
   "execution_count": 205,
   "metadata": {},
   "outputs": [],
   "source": [
    "#Create the column showing only the animals in the title\n",
    "natureLitDf['Animals in Title'] = natureLitDf['Lemmatized Title'].apply(lambda txt: ' '.join([word for word in txt.split() if word in animals]))"
   ]
  },
  {
   "cell_type": "code",
   "execution_count": 207,
   "metadata": {},
   "outputs": [],
   "source": [
    "from sklearn.feature_extraction.text import CountVectorizer"
   ]
  },
  {
   "cell_type": "code",
   "execution_count": 214,
   "metadata": {},
   "outputs": [
    {
     "name": "stderr",
     "output_type": "stream",
     "text": [
      "/usr/lib/python3/dist-packages/scipy/sparse/compressed.py:130: VisibleDeprecationWarning: `rank` is deprecated; use the `ndim` attribute or function instead. To find the rank of a matrix see `numpy.linalg.matrix_rank`.\n",
      "  if np.rank(self.data) != 1 or np.rank(self.indices) != 1 or np.rank(self.indptr) != 1:\n"
     ]
    }
   ],
   "source": [
    "vectorizer = CountVectorizer()\n",
    "animalsX = vectorizer.fit_transform(natureLitDf['Animals in Title'])"
   ]
  },
  {
   "cell_type": "code",
   "execution_count": 215,
   "metadata": {},
   "outputs": [
    {
     "name": "stderr",
     "output_type": "stream",
     "text": [
      "/usr/lib/python3/dist-packages/scipy/sparse/coo.py:200: VisibleDeprecationWarning: `rank` is deprecated; use the `ndim` attribute or function instead. To find the rank of a matrix see `numpy.linalg.matrix_rank`.\n",
      "  if np.rank(self.data) != 1 or np.rank(self.row) != 1 or np.rank(self.col) != 1:\n"
     ]
    },
    {
     "data": {
      "text/html": [
       "<div>\n",
       "<style scoped>\n",
       "    .dataframe tbody tr th:only-of-type {\n",
       "        vertical-align: middle;\n",
       "    }\n",
       "\n",
       "    .dataframe tbody tr th {\n",
       "        vertical-align: top;\n",
       "    }\n",
       "\n",
       "    .dataframe thead th {\n",
       "        text-align: right;\n",
       "    }\n",
       "</style>\n",
       "<table border=\"1\" class=\"dataframe\">\n",
       "  <thead>\n",
       "    <tr style=\"text-align: right;\">\n",
       "      <th></th>\n",
       "      <th>alligator</th>\n",
       "      <th>ant</th>\n",
       "      <th>antelope</th>\n",
       "      <th>armadillo</th>\n",
       "      <th>axolotl</th>\n",
       "      <th>baboon</th>\n",
       "      <th>badger</th>\n",
       "      <th>bat</th>\n",
       "      <th>bear</th>\n",
       "      <th>bee</th>\n",
       "      <th>...</th>\n",
       "      <th>turtle</th>\n",
       "      <th>urchin</th>\n",
       "      <th>viper</th>\n",
       "      <th>walrus</th>\n",
       "      <th>wasp</th>\n",
       "      <th>whale</th>\n",
       "      <th>wolf</th>\n",
       "      <th>woodpecker</th>\n",
       "      <th>yak</th>\n",
       "      <th>zebra</th>\n",
       "    </tr>\n",
       "  </thead>\n",
       "  <tbody>\n",
       "    <tr>\n",
       "      <th>0</th>\n",
       "      <td>0</td>\n",
       "      <td>0</td>\n",
       "      <td>0</td>\n",
       "      <td>0</td>\n",
       "      <td>0</td>\n",
       "      <td>0</td>\n",
       "      <td>0</td>\n",
       "      <td>0</td>\n",
       "      <td>0</td>\n",
       "      <td>0</td>\n",
       "      <td>...</td>\n",
       "      <td>0</td>\n",
       "      <td>0</td>\n",
       "      <td>0</td>\n",
       "      <td>0</td>\n",
       "      <td>0</td>\n",
       "      <td>0</td>\n",
       "      <td>0</td>\n",
       "      <td>0</td>\n",
       "      <td>0</td>\n",
       "      <td>0</td>\n",
       "    </tr>\n",
       "    <tr>\n",
       "      <th>1</th>\n",
       "      <td>0</td>\n",
       "      <td>0</td>\n",
       "      <td>0</td>\n",
       "      <td>0</td>\n",
       "      <td>0</td>\n",
       "      <td>0</td>\n",
       "      <td>0</td>\n",
       "      <td>0</td>\n",
       "      <td>0</td>\n",
       "      <td>0</td>\n",
       "      <td>...</td>\n",
       "      <td>0</td>\n",
       "      <td>0</td>\n",
       "      <td>0</td>\n",
       "      <td>0</td>\n",
       "      <td>0</td>\n",
       "      <td>0</td>\n",
       "      <td>0</td>\n",
       "      <td>0</td>\n",
       "      <td>0</td>\n",
       "      <td>0</td>\n",
       "    </tr>\n",
       "    <tr>\n",
       "      <th>2</th>\n",
       "      <td>0</td>\n",
       "      <td>0</td>\n",
       "      <td>0</td>\n",
       "      <td>0</td>\n",
       "      <td>0</td>\n",
       "      <td>0</td>\n",
       "      <td>0</td>\n",
       "      <td>0</td>\n",
       "      <td>0</td>\n",
       "      <td>0</td>\n",
       "      <td>...</td>\n",
       "      <td>0</td>\n",
       "      <td>0</td>\n",
       "      <td>0</td>\n",
       "      <td>0</td>\n",
       "      <td>0</td>\n",
       "      <td>0</td>\n",
       "      <td>0</td>\n",
       "      <td>0</td>\n",
       "      <td>0</td>\n",
       "      <td>0</td>\n",
       "    </tr>\n",
       "    <tr>\n",
       "      <th>3</th>\n",
       "      <td>0</td>\n",
       "      <td>0</td>\n",
       "      <td>0</td>\n",
       "      <td>0</td>\n",
       "      <td>0</td>\n",
       "      <td>0</td>\n",
       "      <td>0</td>\n",
       "      <td>0</td>\n",
       "      <td>0</td>\n",
       "      <td>0</td>\n",
       "      <td>...</td>\n",
       "      <td>0</td>\n",
       "      <td>0</td>\n",
       "      <td>0</td>\n",
       "      <td>0</td>\n",
       "      <td>0</td>\n",
       "      <td>0</td>\n",
       "      <td>0</td>\n",
       "      <td>0</td>\n",
       "      <td>0</td>\n",
       "      <td>0</td>\n",
       "    </tr>\n",
       "    <tr>\n",
       "      <th>4</th>\n",
       "      <td>1</td>\n",
       "      <td>0</td>\n",
       "      <td>0</td>\n",
       "      <td>0</td>\n",
       "      <td>0</td>\n",
       "      <td>0</td>\n",
       "      <td>0</td>\n",
       "      <td>0</td>\n",
       "      <td>0</td>\n",
       "      <td>0</td>\n",
       "      <td>...</td>\n",
       "      <td>0</td>\n",
       "      <td>0</td>\n",
       "      <td>0</td>\n",
       "      <td>0</td>\n",
       "      <td>0</td>\n",
       "      <td>0</td>\n",
       "      <td>0</td>\n",
       "      <td>0</td>\n",
       "      <td>0</td>\n",
       "      <td>0</td>\n",
       "    </tr>\n",
       "  </tbody>\n",
       "</table>\n",
       "<p>5 rows × 139 columns</p>\n",
       "</div>"
      ],
      "text/plain": [
       "   alligator  ant  antelope  armadillo  axolotl  baboon  badger  bat  bear  \\\n",
       "0          0    0         0          0        0       0       0    0     0   \n",
       "1          0    0         0          0        0       0       0    0     0   \n",
       "2          0    0         0          0        0       0       0    0     0   \n",
       "3          0    0         0          0        0       0       0    0     0   \n",
       "4          1    0         0          0        0       0       0    0     0   \n",
       "\n",
       "   bee  ...    turtle  urchin  viper  walrus  wasp  whale  wolf  woodpecker  \\\n",
       "0    0  ...         0       0      0       0     0      0     0           0   \n",
       "1    0  ...         0       0      0       0     0      0     0           0   \n",
       "2    0  ...         0       0      0       0     0      0     0           0   \n",
       "3    0  ...         0       0      0       0     0      0     0           0   \n",
       "4    0  ...         0       0      0       0     0      0     0           0   \n",
       "\n",
       "   yak  zebra  \n",
       "0    0      0  \n",
       "1    0      0  \n",
       "2    0      0  \n",
       "3    0      0  \n",
       "4    0      0  \n",
       "\n",
       "[5 rows x 139 columns]"
      ]
     },
     "execution_count": 215,
     "metadata": {},
     "output_type": "execute_result"
    }
   ],
   "source": [
    "animalCountDf = pd.DataFrame(animalsX.A, columns=vectorizer.get_feature_names())\n",
    "animalCountDf.head(5)"
   ]
  },
  {
   "cell_type": "code",
   "execution_count": 319,
   "metadata": {},
   "outputs": [],
   "source": [
    "group = animalCountDf.sum().sort_values(ascending=False)\n",
    "group = group[group>2]\n",
    "names = list(group.keys())\n",
    "counts = list(group.values)"
   ]
  },
  {
   "cell_type": "code",
   "execution_count": 320,
   "metadata": {},
   "outputs": [],
   "source": [
    "import seaborn as sns"
   ]
  },
  {
   "cell_type": "code",
   "execution_count": 333,
   "metadata": {},
   "outputs": [
    {
     "data": {
      "text/plain": [
       "<matplotlib.text.Text at 0x93846eb0>"
      ]
     },
     "execution_count": 333,
     "metadata": {},
     "output_type": "execute_result"
    },
    {
     "data": {
      "image/png": "[encoded data removed]",
      "text/plain": [
       "<matplotlib.figure.Figure at 0x941fe1d0>"
      ]
     },
     "metadata": {},
     "output_type": "display_data"
    }
   ],
   "source": [
    "plt.figure(figsize=(8,18))\n",
    "sns.barplot(y=names, x=counts)\n",
    "plt.tight_layout()\n",
    "plt.ylabel('Count')\n",
    "plt.xlabel('')\n",
    "plt.xticks(rotation=90);\n",
    "plt.title('Animal Occurances in Top 1000 Posts - NatureIs...Lit')"
   ]
  },
  {
   "cell_type": "code",
   "execution_count": null,
   "metadata": {},
   "outputs": [],
   "source": []
  },
  {
   "cell_type": "code",
   "execution_count": null,
   "metadata": {},
   "outputs": [],
   "source": []
  },
  {
   "cell_type": "code",
   "execution_count": null,
   "metadata": {},
   "outputs": [],
   "source": []
  },
  {
   "cell_type": "code",
   "execution_count": null,
   "metadata": {},
   "outputs": [],
   "source": []
  }
 ],
 "metadata": {
  "kernelspec": {
   "display_name": "Python 3",
   "language": "python",
   "name": "python3"
  },
  "language_info": {
   "codemirror_mode": {
    "name": "ipython",
    "version": 3
   },
   "file_extension": ".py",
   "mimetype": "text/x-python",
   "name": "python",
   "nbconvert_exporter": "python",
   "pygments_lexer": "ipython3",
   "version": "3.4.3"
  }
 },
 "nbformat": 4,
 "nbformat_minor": 2
}
